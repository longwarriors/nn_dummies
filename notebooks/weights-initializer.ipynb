{
 "cells": [
  {
   "cell_type": "code",
   "id": "initial_id",
   "metadata": {
    "collapsed": true,
    "ExecuteTime": {
     "end_time": "2024-12-25T09:16:10.335128Z",
     "start_time": "2024-12-25T09:16:10.319513Z"
    }
   },
   "source": [
    "import torch\n",
    "import torch.nn as nn\n",
    "# https://zhuanlan.zhihu.com/p/458373836\n",
    "w = torch.arange(2., 20.).view(6, 3)\n",
    "print(w)\n",
    "nn.init.xavier_normal_(w)\n",
    "print(w)"
   ],
   "outputs": [
    {
     "name": "stdout",
     "output_type": "stream",
     "text": [
      "tensor([[ 2.,  3.,  4.],\n",
      "        [ 5.,  6.,  7.],\n",
      "        [ 8.,  9., 10.],\n",
      "        [11., 12., 13.],\n",
      "        [14., 15., 16.],\n",
      "        [17., 18., 19.]])\n",
      "tensor([[-0.1241,  0.2696, -0.0754],\n",
      "        [-0.1250,  0.0341,  0.1130],\n",
      "        [-0.5318,  0.1804, -0.0492],\n",
      "        [-0.7025,  0.0473,  0.7242],\n",
      "        [ 0.5382,  0.0426, -0.3197],\n",
      "        [-0.1888, -0.3709,  0.3427]])\n"
     ]
    }
   ],
   "execution_count": 7
  },
  {
   "metadata": {
    "ExecuteTime": {
     "end_time": "2024-12-25T09:20:56.899757Z",
     "start_time": "2024-12-25T09:20:56.884143Z"
    }
   },
   "cell_type": "code",
   "source": [
    "m = nn.Linear(20, 10)\n",
    "type(m.weight.data)"
   ],
   "id": "56c3dcea5303cbbd",
   "outputs": [
    {
     "data": {
      "text/plain": [
       "torch.Tensor"
      ]
     },
     "execution_count": 11,
     "metadata": {},
     "output_type": "execute_result"
    }
   ],
   "execution_count": 11
  },
  {
   "metadata": {
    "ExecuteTime": {
     "end_time": "2024-12-25T09:22:59.831294Z",
     "start_time": "2024-12-25T09:22:59.815646Z"
    }
   },
   "cell_type": "code",
   "source": [
    "x = torch.arange(5.)\n",
    "print(x)\n",
    "x.uniform_(-1.0, 1.0)\n",
    "print(x)"
   ],
   "id": "aead2fd28156c758",
   "outputs": [
    {
     "name": "stdout",
     "output_type": "stream",
     "text": [
      "tensor([0., 1., 2., 3., 4.])\n",
      "tensor([ 0.9312, -0.0896,  0.0660,  0.3706,  0.0282])\n"
     ]
    }
   ],
   "execution_count": 13
  },
  {
   "metadata": {},
   "cell_type": "code",
   "outputs": [],
   "execution_count": null,
   "source": [
    "#default neat-style init\n",
    "def weight_init_default(m):\n",
    "    if isinstance(m, nn.Linear) or isinstance(m,nn.Conv2d):\n",
    "        m.weight.data.uniform_(-1.0,1.0)\n",
    "\n",
    "#xavier initialization (apparently better than pytorch default)\n",
    "def weight_init_xavier(m): \n",
    "    #print \"xavier init.\"\n",
    "    if isinstance(m, nn.Linear) or isinstance(m,nn.Conv2d):\n",
    "        size = m.weight.size()\n",
    "        fan_out = size[0] # number of rows, `fan_out` is the number of output units in the weight tensor.\n",
    "        fan_in = np.prod(size[1:]) # number of columns, `fan_in` is the number of input units in the weight tensor.\n",
    "        variance = np.sqrt(2.0/(fan_in + fan_out))\n",
    "        m.weight.data.normal_(0.0, variance)"
   ],
   "id": "b05fde0f6eb36c7b"
  }
 ],
 "metadata": {
  "kernelspec": {
   "display_name": "Python 3",
   "language": "python",
   "name": "python3"
  },
  "language_info": {
   "codemirror_mode": {
    "name": "ipython",
    "version": 2
   },
   "file_extension": ".py",
   "mimetype": "text/x-python",
   "name": "python",
   "nbconvert_exporter": "python",
   "pygments_lexer": "ipython2",
   "version": "2.7.6"
  }
 },
 "nbformat": 4,
 "nbformat_minor": 5
}
