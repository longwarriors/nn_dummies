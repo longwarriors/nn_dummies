{
 "cells": [
  {
   "cell_type": "code",
   "id": "initial_id",
   "metadata": {
    "collapsed": true,
    "ExecuteTime": {
     "end_time": "2025-01-12T04:27:51.247186Z",
     "start_time": "2025-01-12T04:27:51.084071Z"
    }
   },
   "source": [
    "import numpy as np\n",
    "from typing import Callable, List, Tuple\n",
    "\n",
    "# A Function takes in an ndarray as an argument and produces an ndarray\n",
    "ArrayFunc = Callable[[np.ndarray], np.ndarray]\n",
    "# A Chain is a list of functions\n",
    "Chain = List[ArrayFunc]\n",
    "\n",
    "\n",
    "def derivative(func: ArrayFunc,\n",
    "               x: np.ndarray,\n",
    "               dx: float = 1e-3) -> np.ndarray:\n",
    "    \"\"\"中心差分\"\"\"\n",
    "    return (func(x + dx) - func(x - dx)) / (2 * dx)\n",
    "\n",
    "\n",
    "def chain_length_2(chain: Chain, x: np.ndarray) -> np.ndarray:\n",
    "    assert len(chain) == 2, \"Length of input 'chain' should be 2\"\n",
    "    f1 = chain[0]\n",
    "    f1 = chain[0]\n",
    "    f2 = chain[1]\n",
    "    return f2(f1(x))\n",
    "\n",
    "\n",
    "input_x = np.array([1, 2, 3, 4, 5])\n",
    "chain_length_2([np.sqrt, np.square], input_x)"
   ],
   "outputs": [
    {
     "data": {
      "text/plain": [
       "array([1., 2., 3., 4., 5.])"
      ]
     },
     "execution_count": 2,
     "metadata": {},
     "output_type": "execute_result"
    }
   ],
   "execution_count": 2
  },
  {
   "metadata": {
    "ExecuteTime": {
     "end_time": "2025-01-10T17:37:39.170860Z",
     "start_time": "2025-01-10T17:37:39.155340Z"
    }
   },
   "cell_type": "code",
   "source": [
    "def sigmoid(x: np.ndarray) -> np.ndarray:\n",
    "    return 1 / (1 + np.exp(-x))\n",
    "\n",
    "\n",
    "def leaky_relu(x: np.ndarray) -> np.ndarray:\n",
    "    return np.maximum(0.2 * x, x)\n",
    "\n",
    "\n",
    "def chain_derivative_2(chain: Chain, x: np.ndarray) -> np.ndarray:\n",
    "    '''\n",
    "    compute the derivative of two nested functions with respect to x:\n",
    "    (f2(f1(x))' = f2'(f1(x)) * f1'(x)\n",
    "    '''\n",
    "    assert len(chain) == 2, \"This function requires 'Chain' objects of length 2\"\n",
    "    f1 = chain[0]\n",
    "    f2 = chain[1]\n",
    "\n",
    "    # f1(x)\n",
    "    f1_of_x = f1(x)\n",
    "\n",
    "    # df1/dx\n",
    "    df1_dx = derivative(f1, x)\n",
    "    # df2(f1(x)) * df1(x) = df2/du(f1(x)) * df1/du(x) \n",
    "    df2_du = derivative(f2, f1_of_x)\n",
    "    return df2_du * df1_dx\n",
    "\n",
    "\n",
    "def chain_derivative_3(chain: Chain, x: np.ndarray) -> np.ndarray:\n",
    "    '''\n",
    "    compute the derivative of three nested functions with respect to x:\n",
    "    (f3(f2(f1(x))))' = f3'(f2(f1(x))) * f2'(f1(x)) * f1'(x)\n",
    "    '''\n",
    "    assert len(chain) == 3, \"This function requires 'Chain' objects of length 3\"\n",
    "    f1 = chain[0]\n",
    "    f2 = chain[1]\n",
    "    f3 = chain[2]\n",
    "\n",
    "    # f1(x)\n",
    "    f1_of_x = f1(x)\n",
    "\n",
    "    # f2(f1(x))\n",
    "    f2_of_x = f2(f1_of_x)\n",
    "\n",
    "    # df1/dx\n",
    "    df1_dx = derivative(f1, x)\n",
    "\n",
    "    # df2/du(f1(x))\n",
    "    df2_du = derivative(f2, f1_of_x)\n",
    "\n",
    "    # df3/du(f2(f1(x)))\n",
    "    df3_du = derivative(f3, f2_of_x)\n",
    "    return df3_du * df2_du * df1_dx\n",
    "\n",
    "\n",
    "input_x = np.arange(-3, 3, 0.8)\n",
    "print(input_x)\n",
    "c2 = chain_derivative_2([sigmoid, np.square], input_x)\n",
    "print(c2)\n",
    "c3 = chain_derivative_3([leaky_relu, sigmoid, np.square], input_x)\n",
    "print(c3)"
   ],
   "id": "3b13d92fe2487026",
   "outputs": [
    {
     "name": "stdout",
     "output_type": "stream",
     "text": [
      "[-3.  -2.2 -1.4 -0.6  0.2  1.   1.8  2.6]\n",
      "[0.00428509 0.01791525 0.06278086 0.1621365  0.27218603 0.28746967\n",
      " 0.20892382 0.11981735]\n",
      "[0.0324273  0.03733761 0.04221259 0.04683478 0.27218603 0.28746967\n",
      " 0.20892382 0.11981735]\n"
     ]
    }
   ],
   "execution_count": 2
  },
  {
   "metadata": {
    "ExecuteTime": {
     "end_time": "2025-01-11T07:55:55.511049Z",
     "start_time": "2025-01-11T07:55:55.491534Z"
    }
   },
   "cell_type": "code",
   "source": [
    "def multiple_inputs_addition(x: np.ndarray,\n",
    "                             y: np.ndarray,\n",
    "                             sigma: ArrayFunc) -> float:\n",
    "    assert x.shape == y.shape\n",
    "    a = x + y\n",
    "    return sigma(a)\n",
    "\n",
    "\n",
    "def multiple_inputs_add_backward(x: np.ndarray, y: np.ndarray, sigma: ArrayFunc) -> float:\n",
    "    # compute forward pass\n",
    "    a = x + y\n",
    "    ds_da = derivative(sigma, a)\n",
    "    da_dx, da_dy = 1, 1\n",
    "    return ds_da * da_dx, ds_da * da_dy\n",
    "\n",
    "\n",
    "x = np.array([1, 2, 3, 4, 5])\n",
    "y = np.array([3, 4, 5, 6, 7])\n",
    "multiple_inputs_addition(x, y, np.sum)"
   ],
   "id": "b673144656398ea0",
   "outputs": [
    {
     "data": {
      "text/plain": [
       "40"
      ]
     },
     "execution_count": 5,
     "metadata": {},
     "output_type": "execute_result"
    }
   ],
   "execution_count": 5
  },
  {
   "metadata": {},
   "cell_type": "code",
   "outputs": [],
   "execution_count": null,
   "source": [
    "def matmul_forward(X: np.ndarray, W: np.ndarray) -> np.ndarray:\n",
    "    assert X.shape[1] == W.shape[0], \\\n",
    "    '''\n",
    "    For matrix multiplication, the number of columns in the first array should match the number of rows in the second; instead the number of columns in the    first array is {X.shape[1]} and the number of rows in the second array is {W.shape[0]}.\n",
    "    '''\n",
    "    N = np.dot(X, W)\n",
    "    return N\n",
    "\n",
    "def matmul_backward_first(X: np.ndarray, W: np.ndarray) -> np.ndarray:\n",
    "    dN_dX = np.transpose(W, (1, 0))\n",
    "    return dN_dX\n",
    "\n",
    "def matrix_forward_extra(X: np.ndarray, W: np.ndarray, sigma:ArrayFunc) -> np.ndarray:\n",
    "    assert X.shape[1] == W.shape[0]\n",
    "    N = np.dot(X, W)\n",
    "    S = sigma(N)\n",
    "    return S\n",
    "\n",
    "def matrix_function_backward_1(X: np.ndarray, W: np.ndarray, sigma:ArrayFunc) -> np.ndarray:\n",
    "    assert X.shape[1] == W.shape[0]\n",
    "    N = np.dot(X, W)\n",
    "    S = sigma(N)\n",
    "    dS_dN = derivative(sigma, N)\n",
    "    dN_dX = np.transpose(W, (1, 0))\n",
    "    return np.dot(dS_dN, dN_dX)"
   ],
   "id": "702a7d67c948b9f3"
  },
  {
   "metadata": {
    "ExecuteTime": {
     "end_time": "2025-01-12T04:28:40.389906Z",
     "start_time": "2025-01-12T04:28:40.375371Z"
    }
   },
   "cell_type": "code",
   "source": [
    "rd  = np.random.rand(3, 6)\n",
    "print(rd)\n",
    "print(np.swapaxes(rd, 1, 0))\n",
    "print(np.swapaxes(rd, 0, 1))"
   ],
   "id": "303727b57ee172af",
   "outputs": [
    {
     "name": "stdout",
     "output_type": "stream",
     "text": [
      "[[0.36040529 0.74915431 0.91171237 0.57924666 0.82155248 0.25016635]\n",
      " [0.85657514 0.72022414 0.78123028 0.64038329 0.93329273 0.05486043]\n",
      " [0.80934961 0.54389149 0.9552091  0.35741833 0.47891503 0.29096131]]\n",
      "[[0.36040529 0.85657514 0.80934961]\n",
      " [0.74915431 0.72022414 0.54389149]\n",
      " [0.91171237 0.78123028 0.9552091 ]\n",
      " [0.57924666 0.64038329 0.35741833]\n",
      " [0.82155248 0.93329273 0.47891503]\n",
      " [0.25016635 0.05486043 0.29096131]]\n",
      "[[0.36040529 0.85657514 0.80934961]\n",
      " [0.74915431 0.72022414 0.54389149]\n",
      " [0.91171237 0.78123028 0.9552091 ]\n",
      " [0.57924666 0.64038329 0.35741833]\n",
      " [0.82155248 0.93329273 0.47891503]\n",
      " [0.25016635 0.05486043 0.29096131]]\n"
     ]
    }
   ],
   "execution_count": 5
  },
  {
   "metadata": {},
   "cell_type": "code",
   "outputs": [],
   "execution_count": null,
   "source": "",
   "id": "476fb917f334bb59"
  }
 ],
 "metadata": {
  "kernelspec": {
   "display_name": "Python 3",
   "language": "python",
   "name": "python3"
  },
  "language_info": {
   "codemirror_mode": {
    "name": "ipython",
    "version": 2
   },
   "file_extension": ".py",
   "mimetype": "text/x-python",
   "name": "python",
   "nbconvert_exporter": "python",
   "pygments_lexer": "ipython2",
   "version": "2.7.6"
  }
 },
 "nbformat": 4,
 "nbformat_minor": 5
}
