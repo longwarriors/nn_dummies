{
 "cells": [
  {
   "metadata": {},
   "cell_type": "markdown",
   "source": [
    "# 结构化数据\n",
    "`pandas.DataFrame`"
   ],
   "id": "241b9af49c67853b"
  },
  {
   "cell_type": "code",
   "id": "initial_id",
   "metadata": {
    "collapsed": true,
    "ExecuteTime": {
     "end_time": "2025-02-16T09:48:56.225731Z",
     "start_time": "2025-02-16T09:48:53.717489Z"
    }
   },
   "source": [
    "# https://www.bilibili.com/video/BV1114y147d2/\n",
    "# https://www.heywhale.com/mw/project/5f2b493eaf3980002cb1ced0 \n",
    "# 安装torchkeras以后会出问题 https://github.com/lyhue1991/torchkeras \n",
    "import torch\n",
    "\n",
    "print(torch.__version__)\n",
    "# import torchkeras\n",
    "# print(torchkeras.__version__)"
   ],
   "outputs": [
    {
     "name": "stdout",
     "output_type": "stream",
     "text": [
      "2.3.1\n"
     ]
    }
   ],
   "execution_count": 1
  },
  {
   "metadata": {
    "ExecuteTime": {
     "end_time": "2025-02-16T09:50:47.100435Z",
     "start_time": "2025-02-16T09:50:47.078436Z"
    }
   },
   "cell_type": "code",
   "source": [
    "import os\n",
    "import datetime\n",
    "\n",
    "#mac系统上pytorch和matplotlib在jupyter中同时跑需要更改环境变量\n",
    "os.environ[\"KMP_DUPLICATE_LIB_OK\"] = \"TRUE\"\n",
    "\n",
    "\n",
    "def printbar():\n",
    "    nowtime = datetime.datetime.now().strftime('%Y-%m-%d %H:%M:%S')\n",
    "    print('\\n' + \"==========\" * 8 + '%s' % nowtime)\n",
    "\n",
    "\n",
    "printbar()"
   ],
   "id": "7e737c5ca9f0180b",
   "outputs": [
    {
     "name": "stdout",
     "output_type": "stream",
     "text": [
      "\n",
      "================================================================================2025-02-16 17:50:47\n"
     ]
    }
   ],
   "execution_count": 2
  },
  {
   "metadata": {},
   "cell_type": "markdown",
   "source": [
    "# 原始数据特征\n",
    "- Survived: 0代表死亡，1代表存活【y标签】 \n",
    "- Pclass: 乘客所持票类，有三种值(1,2,3) 【转换成onehot编码】\n",
    "- Name: 乘客姓名 【舍去】 \n",
    "- Sex: 乘客性别 【转换成bool特征】 \n",
    "- Age: 乘客年龄(有缺失) 【数值特征，添加“年龄是否缺失”作为辅助特征】 \n",
    "- SibSp: 乘客兄弟姐妹/配偶的个数(整数值) 【数值特征】\n",
    "- Parch: 乘客父母/孩子的个数(整数值)【数值特征】\n",
    "- Ticket: 票号(字符串)【舍去】 \n",
    "- Fare: 乘客所持票的价格(浮点数，0-500不等) 【数值特征】\n",
    "- Cabin: 乘客所在船舱(有缺失) 【添加“所在船舱是否缺失”作为辅助特征】\n",
    "- Embarked: 乘客登船港口:S、C、Q(有缺失)【转换成onehot编码，四维度 S,C,Q,nan】 "
   ],
   "id": "ca05012c58b1d272"
  },
  {
   "metadata": {
    "ExecuteTime": {
     "end_time": "2025-02-16T09:53:42.946386Z",
     "start_time": "2025-02-16T09:53:42.131346Z"
    }
   },
   "cell_type": "code",
   "source": [
    "import pandas as pd\n",
    "import numpy as np\n",
    "import matplotlib.pyplot as plt\n",
    "\n",
    "train_raw = pd.read_csv('../data/titanic/train.csv')\n",
    "test_raw = pd.read_csv('../data/titanic/test.csv')\n",
    "train_raw.head(8)"
   ],
   "id": "1d4a4af09ef20fd2",
   "outputs": [
    {
     "data": {
      "text/plain": [
       "   PassengerId  Survived  Pclass  \\\n",
       "0            1         0       3   \n",
       "1            2         1       1   \n",
       "2            3         1       3   \n",
       "3            4         1       1   \n",
       "4            5         0       3   \n",
       "5            6         0       3   \n",
       "6            7         0       1   \n",
       "7            8         0       3   \n",
       "\n",
       "                                                Name     Sex   Age  SibSp  \\\n",
       "0                            Braund, Mr. Owen Harris    male  22.0      1   \n",
       "1  Cumings, Mrs. John Bradley (Florence Briggs Th...  female  38.0      1   \n",
       "2                             Heikkinen, Miss. Laina  female  26.0      0   \n",
       "3       Futrelle, Mrs. Jacques Heath (Lily May Peel)  female  35.0      1   \n",
       "4                           Allen, Mr. William Henry    male  35.0      0   \n",
       "5                                   Moran, Mr. James    male   NaN      0   \n",
       "6                            McCarthy, Mr. Timothy J    male  54.0      0   \n",
       "7                     Palsson, Master. Gosta Leonard    male   2.0      3   \n",
       "\n",
       "   Parch            Ticket     Fare Cabin Embarked  \n",
       "0      0         A/5 21171   7.2500   NaN        S  \n",
       "1      0          PC 17599  71.2833   C85        C  \n",
       "2      0  STON/O2. 3101282   7.9250   NaN        S  \n",
       "3      0            113803  53.1000  C123        S  \n",
       "4      0            373450   8.0500   NaN        S  \n",
       "5      0            330877   8.4583   NaN        Q  \n",
       "6      0             17463  51.8625   E46        S  \n",
       "7      1            349909  21.0750   NaN        S  "
      ],
      "text/html": [
       "<div>\n",
       "<style scoped>\n",
       "    .dataframe tbody tr th:only-of-type {\n",
       "        vertical-align: middle;\n",
       "    }\n",
       "\n",
       "    .dataframe tbody tr th {\n",
       "        vertical-align: top;\n",
       "    }\n",
       "\n",
       "    .dataframe thead th {\n",
       "        text-align: right;\n",
       "    }\n",
       "</style>\n",
       "<table border=\"1\" class=\"dataframe\">\n",
       "  <thead>\n",
       "    <tr style=\"text-align: right;\">\n",
       "      <th></th>\n",
       "      <th>PassengerId</th>\n",
       "      <th>Survived</th>\n",
       "      <th>Pclass</th>\n",
       "      <th>Name</th>\n",
       "      <th>Sex</th>\n",
       "      <th>Age</th>\n",
       "      <th>SibSp</th>\n",
       "      <th>Parch</th>\n",
       "      <th>Ticket</th>\n",
       "      <th>Fare</th>\n",
       "      <th>Cabin</th>\n",
       "      <th>Embarked</th>\n",
       "    </tr>\n",
       "  </thead>\n",
       "  <tbody>\n",
       "    <tr>\n",
       "      <th>0</th>\n",
       "      <td>1</td>\n",
       "      <td>0</td>\n",
       "      <td>3</td>\n",
       "      <td>Braund, Mr. Owen Harris</td>\n",
       "      <td>male</td>\n",
       "      <td>22.0</td>\n",
       "      <td>1</td>\n",
       "      <td>0</td>\n",
       "      <td>A/5 21171</td>\n",
       "      <td>7.2500</td>\n",
       "      <td>NaN</td>\n",
       "      <td>S</td>\n",
       "    </tr>\n",
       "    <tr>\n",
       "      <th>1</th>\n",
       "      <td>2</td>\n",
       "      <td>1</td>\n",
       "      <td>1</td>\n",
       "      <td>Cumings, Mrs. John Bradley (Florence Briggs Th...</td>\n",
       "      <td>female</td>\n",
       "      <td>38.0</td>\n",
       "      <td>1</td>\n",
       "      <td>0</td>\n",
       "      <td>PC 17599</td>\n",
       "      <td>71.2833</td>\n",
       "      <td>C85</td>\n",
       "      <td>C</td>\n",
       "    </tr>\n",
       "    <tr>\n",
       "      <th>2</th>\n",
       "      <td>3</td>\n",
       "      <td>1</td>\n",
       "      <td>3</td>\n",
       "      <td>Heikkinen, Miss. Laina</td>\n",
       "      <td>female</td>\n",
       "      <td>26.0</td>\n",
       "      <td>0</td>\n",
       "      <td>0</td>\n",
       "      <td>STON/O2. 3101282</td>\n",
       "      <td>7.9250</td>\n",
       "      <td>NaN</td>\n",
       "      <td>S</td>\n",
       "    </tr>\n",
       "    <tr>\n",
       "      <th>3</th>\n",
       "      <td>4</td>\n",
       "      <td>1</td>\n",
       "      <td>1</td>\n",
       "      <td>Futrelle, Mrs. Jacques Heath (Lily May Peel)</td>\n",
       "      <td>female</td>\n",
       "      <td>35.0</td>\n",
       "      <td>1</td>\n",
       "      <td>0</td>\n",
       "      <td>113803</td>\n",
       "      <td>53.1000</td>\n",
       "      <td>C123</td>\n",
       "      <td>S</td>\n",
       "    </tr>\n",
       "    <tr>\n",
       "      <th>4</th>\n",
       "      <td>5</td>\n",
       "      <td>0</td>\n",
       "      <td>3</td>\n",
       "      <td>Allen, Mr. William Henry</td>\n",
       "      <td>male</td>\n",
       "      <td>35.0</td>\n",
       "      <td>0</td>\n",
       "      <td>0</td>\n",
       "      <td>373450</td>\n",
       "      <td>8.0500</td>\n",
       "      <td>NaN</td>\n",
       "      <td>S</td>\n",
       "    </tr>\n",
       "    <tr>\n",
       "      <th>5</th>\n",
       "      <td>6</td>\n",
       "      <td>0</td>\n",
       "      <td>3</td>\n",
       "      <td>Moran, Mr. James</td>\n",
       "      <td>male</td>\n",
       "      <td>NaN</td>\n",
       "      <td>0</td>\n",
       "      <td>0</td>\n",
       "      <td>330877</td>\n",
       "      <td>8.4583</td>\n",
       "      <td>NaN</td>\n",
       "      <td>Q</td>\n",
       "    </tr>\n",
       "    <tr>\n",
       "      <th>6</th>\n",
       "      <td>7</td>\n",
       "      <td>0</td>\n",
       "      <td>1</td>\n",
       "      <td>McCarthy, Mr. Timothy J</td>\n",
       "      <td>male</td>\n",
       "      <td>54.0</td>\n",
       "      <td>0</td>\n",
       "      <td>0</td>\n",
       "      <td>17463</td>\n",
       "      <td>51.8625</td>\n",
       "      <td>E46</td>\n",
       "      <td>S</td>\n",
       "    </tr>\n",
       "    <tr>\n",
       "      <th>7</th>\n",
       "      <td>8</td>\n",
       "      <td>0</td>\n",
       "      <td>3</td>\n",
       "      <td>Palsson, Master. Gosta Leonard</td>\n",
       "      <td>male</td>\n",
       "      <td>2.0</td>\n",
       "      <td>3</td>\n",
       "      <td>1</td>\n",
       "      <td>349909</td>\n",
       "      <td>21.0750</td>\n",
       "      <td>NaN</td>\n",
       "      <td>S</td>\n",
       "    </tr>\n",
       "  </tbody>\n",
       "</table>\n",
       "</div>"
      ]
     },
     "execution_count": 3,
     "metadata": {},
     "output_type": "execute_result"
    }
   ],
   "execution_count": 3
  },
  {
   "metadata": {
    "ExecuteTime": {
     "end_time": "2025-02-16T14:55:55.340488Z",
     "start_time": "2025-02-16T14:55:55.321788Z"
    }
   },
   "cell_type": "code",
   "source": "print(test_raw.info())",
   "id": "c0d92bd0a5817e9",
   "outputs": [
    {
     "name": "stdout",
     "output_type": "stream",
     "text": [
      "<class 'pandas.core.frame.DataFrame'>\n",
      "RangeIndex: 418 entries, 0 to 417\n",
      "Data columns (total 11 columns):\n",
      " #   Column       Non-Null Count  Dtype  \n",
      "---  ------       --------------  -----  \n",
      " 0   PassengerId  418 non-null    int64  \n",
      " 1   Pclass       418 non-null    int64  \n",
      " 2   Name         418 non-null    object \n",
      " 3   Sex          418 non-null    object \n",
      " 4   Age          332 non-null    float64\n",
      " 5   SibSp        418 non-null    int64  \n",
      " 6   Parch        418 non-null    int64  \n",
      " 7   Ticket       418 non-null    object \n",
      " 8   Fare         417 non-null    float64\n",
      " 9   Cabin        91 non-null     object \n",
      " 10  Embarked     418 non-null    object \n",
      "dtypes: float64(2), int64(4), object(5)\n",
      "memory usage: 36.0+ KB\n",
      "None\n"
     ]
    }
   ],
   "execution_count": 16
  },
  {
   "metadata": {
    "ExecuteTime": {
     "end_time": "2025-02-16T14:56:51.234554Z",
     "start_time": "2025-02-16T14:56:51.216551Z"
    }
   },
   "cell_type": "code",
   "source": "print(train_raw.info())",
   "id": "efeadf5b22adf9fe",
   "outputs": [
    {
     "name": "stdout",
     "output_type": "stream",
     "text": [
      "<class 'pandas.core.frame.DataFrame'>\n",
      "RangeIndex: 891 entries, 0 to 890\n",
      "Data columns (total 12 columns):\n",
      " #   Column       Non-Null Count  Dtype  \n",
      "---  ------       --------------  -----  \n",
      " 0   PassengerId  891 non-null    int64  \n",
      " 1   Survived     891 non-null    int64  \n",
      " 2   Pclass       891 non-null    int64  \n",
      " 3   Name         891 non-null    object \n",
      " 4   Sex          891 non-null    object \n",
      " 5   Age          714 non-null    float64\n",
      " 6   SibSp        891 non-null    int64  \n",
      " 7   Parch        891 non-null    int64  \n",
      " 8   Ticket       891 non-null    object \n",
      " 9   Fare         891 non-null    float64\n",
      " 10  Cabin        204 non-null    object \n",
      " 11  Embarked     889 non-null    object \n",
      "dtypes: float64(2), int64(5), object(5)\n",
      "memory usage: 83.7+ KB\n",
      "None\n"
     ]
    }
   ],
   "execution_count": 17
  },
  {
   "metadata": {},
   "cell_type": "markdown",
   "source": [
    "# 探索性数据分析（Exploratory Data Analysis）\n",
    "- label分布情况\n",
    "- 年龄分布情况\n",
    "- 年龄和label的相关性"
   ],
   "id": "a75d807ede8fccd3"
  },
  {
   "metadata": {
    "ExecuteTime": {
     "end_time": "2025-02-16T09:53:50.011169Z",
     "start_time": "2025-02-16T09:53:49.855983Z"
    }
   },
   "cell_type": "code",
   "source": [
    "%matplotlib inline\n",
    "%config InlineBackend.figure_format = 'png'\n",
    "ax = train_raw['Survived'].value_counts().plot(\n",
    "    kind='bar',\n",
    "    figsize=(12, 8),\n",
    "    fontsize=15,\n",
    "    rot=0,\n",
    ")\n",
    "ax.set_title('Survived')\n",
    "ax.set_ylabel('Counts')\n",
    "ax.set_xlabel('Label')\n",
    "plt.show()"
   ],
   "id": "55850666e6db94ae",
   "outputs": [
    {
     "data": {
      "text/plain": [
       "<Figure size 1200x800 with 1 Axes>"
      ],
      "image/png": "[encoded data removed]"
     },
     "metadata": {},
     "output_type": "display_data"
    }
   ],
   "execution_count": 4
  },
  {
   "metadata": {
    "ExecuteTime": {
     "end_time": "2025-02-16T09:53:52.988955Z",
     "start_time": "2025-02-16T09:53:52.817909Z"
    }
   },
   "cell_type": "code",
   "source": [
    "%matplotlib inline\n",
    "%config InlineBackend.figure_format = 'png'\n",
    "ax = train_raw['Age'].plot(\n",
    "    kind='hist',\n",
    "    bins=20,\n",
    "    color='purple',\n",
    "    figsize=(12, 8),\n",
    "    fontsize=15,\n",
    ")\n",
    "ax.set_ylabel('Frequency', fontsize=15)\n",
    "ax.set_xlabel('Age', fontsize=15)\n",
    "plt.show()"
   ],
   "id": "773f24c727e83043",
   "outputs": [
    {
     "data": {
      "text/plain": [
       "<Figure size 1200x800 with 1 Axes>"
      ],
      "image/png": "[encoded data removed]"
     },
     "metadata": {},
     "output_type": "display_data"
    }
   ],
   "execution_count": 5
  },
  {
   "metadata": {
    "ExecuteTime": {
     "end_time": "2025-02-16T09:53:56.409855Z",
     "start_time": "2025-02-16T09:53:55.667911Z"
    }
   },
   "cell_type": "code",
   "source": [
    "%matplotlib inline\n",
    "%config InlineBackend.figure_format = 'png'\n",
    "ax = train_raw.query('Survived == 0')['Age'].plot(\n",
    "    kind='density',\n",
    "    figsize=(12, 8),\n",
    "    fontsize=15,\n",
    ")\n",
    "train_raw.query('Survived == 1')['Age'].plot(\n",
    "    kind='density',\n",
    "    figsize=(12, 8),\n",
    "    fontsize=15,\n",
    ")\n",
    "ax.set_ylabel('Density', fontsize=15)\n",
    "ax.set_xlabel('Age', fontsize=15)\n",
    "ax.legend(['Survived==0', 'Survived==1'], fontsize=12)\n",
    "plt.show()"
   ],
   "id": "4e2b24ee90782fbd",
   "outputs": [
    {
     "data": {
      "text/plain": [
       "<Figure size 1200x800 with 1 Axes>"
      ],
      "image/png": "[encoded data removed]"
     },
     "metadata": {},
     "output_type": "display_data"
    }
   ],
   "execution_count": 6
  },
  {
   "metadata": {},
   "cell_type": "markdown",
   "source": "# 数据预处理\n",
   "id": "c85c4ed23aa2088b"
  },
  {
   "metadata": {
    "ExecuteTime": {
     "end_time": "2025-02-16T17:17:24.849759Z",
     "start_time": "2025-02-16T17:17:24.810248Z"
    }
   },
   "cell_type": "code",
   "source": [
    "def preprocess(dfRaw):\n",
    "    dfResult = pd.DataFrame()\n",
    "\n",
    "    # Pclass\n",
    "    dfPclass = pd.get_dummies(dfRaw['Pclass'])\n",
    "    dfPclass.columns = ['Pclass_' + str(x) for x in dfPclass.columns]\n",
    "    dfResult = pd.concat([dfResult, dfPclass], axis=1)\n",
    "\n",
    "    # Sex\n",
    "    dfSex = pd.get_dummies(dfRaw['Sex'])\n",
    "    dfResult = pd.concat([dfResult, dfSex], axis=1)\n",
    "\n",
    "    # Age\n",
    "    dfResult['Age'] = dfRaw['Age'].fillna(0)\n",
    "    dfResult['Age_null'] = pd.isna(dfRaw['Age']).astype('int32')\n",
    "\n",
    "    # SibSp, Parch, Fare\n",
    "    dfResult['SibSp'] = dfRaw['SibSp']\n",
    "    dfResult['Parch'] = dfRaw['Parch']\n",
    "    dfResult['Fare'] = dfRaw['Fare']\n",
    "\n",
    "    # Cabin\n",
    "    dfResult['Cabin_null'] = pd.isna(dfRaw['Cabin']).astype('int32')\n",
    "\n",
    "    # Embarked\n",
    "    dfEmbarked = pd.get_dummies(dfRaw['Embarked'], dummy_na=True)\n",
    "    dfEmbarked.columns = ['Embarked_' + str(x) for x in dfEmbarked.columns]\n",
    "    dfResult = pd.concat([dfResult, dfEmbarked], axis=1)\n",
    "\n",
    "    return dfResult\n",
    "\n",
    "\n",
    "x_train = preprocess(train_raw).values\n",
    "y_train = train_raw['Survived'].values\n",
    "x_test = preprocess(test_raw).values\n",
    "# y_test = test_raw['Survived'].values\n",
    "print('x_train shape:', x_train.shape)\n",
    "print('y_train shape:', y_train.shape)\n",
    "print('x_test shape:', x_test.shape)\n",
    "# print('y_test shape:', y_test.shape)\n",
    "preprocess(train_raw).head(8)"
   ],
   "id": "793d8150c71c415a",
   "outputs": [
    {
     "name": "stdout",
     "output_type": "stream",
     "text": [
      "x_train shape: (891, 15)\n",
      "y_train shape: (891,)\n",
      "x_test shape: (418, 15)\n"
     ]
    },
    {
     "data": {
      "text/plain": [
       "   Pclass_1  Pclass_2  Pclass_3  female   male   Age  Age_null  SibSp  Parch  \\\n",
       "0     False     False      True   False   True  22.0         0      1      0   \n",
       "1      True     False     False    True  False  38.0         0      1      0   \n",
       "2     False     False      True    True  False  26.0         0      0      0   \n",
       "3      True     False     False    True  False  35.0         0      1      0   \n",
       "4     False     False      True   False   True  35.0         0      0      0   \n",
       "5     False     False      True   False   True   0.0         1      0      0   \n",
       "6      True     False     False   False   True  54.0         0      0      0   \n",
       "7     False     False      True   False   True   2.0         0      3      1   \n",
       "\n",
       "      Fare  Cabin_null  Embarked_C  Embarked_Q  Embarked_S  Embarked_nan  \n",
       "0   7.2500           1       False       False        True         False  \n",
       "1  71.2833           0        True       False       False         False  \n",
       "2   7.9250           1       False       False        True         False  \n",
       "3  53.1000           0       False       False        True         False  \n",
       "4   8.0500           1       False       False        True         False  \n",
       "5   8.4583           1       False        True       False         False  \n",
       "6  51.8625           0       False       False        True         False  \n",
       "7  21.0750           1       False       False        True         False  "
      ],
      "text/html": [
       "<div>\n",
       "<style scoped>\n",
       "    .dataframe tbody tr th:only-of-type {\n",
       "        vertical-align: middle;\n",
       "    }\n",
       "\n",
       "    .dataframe tbody tr th {\n",
       "        vertical-align: top;\n",
       "    }\n",
       "\n",
       "    .dataframe thead th {\n",
       "        text-align: right;\n",
       "    }\n",
       "</style>\n",
       "<table border=\"1\" class=\"dataframe\">\n",
       "  <thead>\n",
       "    <tr style=\"text-align: right;\">\n",
       "      <th></th>\n",
       "      <th>Pclass_1</th>\n",
       "      <th>Pclass_2</th>\n",
       "      <th>Pclass_3</th>\n",
       "      <th>female</th>\n",
       "      <th>male</th>\n",
       "      <th>Age</th>\n",
       "      <th>Age_null</th>\n",
       "      <th>SibSp</th>\n",
       "      <th>Parch</th>\n",
       "      <th>Fare</th>\n",
       "      <th>Cabin_null</th>\n",
       "      <th>Embarked_C</th>\n",
       "      <th>Embarked_Q</th>\n",
       "      <th>Embarked_S</th>\n",
       "      <th>Embarked_nan</th>\n",
       "    </tr>\n",
       "  </thead>\n",
       "  <tbody>\n",
       "    <tr>\n",
       "      <th>0</th>\n",
       "      <td>False</td>\n",
       "      <td>False</td>\n",
       "      <td>True</td>\n",
       "      <td>False</td>\n",
       "      <td>True</td>\n",
       "      <td>22.0</td>\n",
       "      <td>0</td>\n",
       "      <td>1</td>\n",
       "      <td>0</td>\n",
       "      <td>7.2500</td>\n",
       "      <td>1</td>\n",
       "      <td>False</td>\n",
       "      <td>False</td>\n",
       "      <td>True</td>\n",
       "      <td>False</td>\n",
       "    </tr>\n",
       "    <tr>\n",
       "      <th>1</th>\n",
       "      <td>True</td>\n",
       "      <td>False</td>\n",
       "      <td>False</td>\n",
       "      <td>True</td>\n",
       "      <td>False</td>\n",
       "      <td>38.0</td>\n",
       "      <td>0</td>\n",
       "      <td>1</td>\n",
       "      <td>0</td>\n",
       "      <td>71.2833</td>\n",
       "      <td>0</td>\n",
       "      <td>True</td>\n",
       "      <td>False</td>\n",
       "      <td>False</td>\n",
       "      <td>False</td>\n",
       "    </tr>\n",
       "    <tr>\n",
       "      <th>2</th>\n",
       "      <td>False</td>\n",
       "      <td>False</td>\n",
       "      <td>True</td>\n",
       "      <td>True</td>\n",
       "      <td>False</td>\n",
       "      <td>26.0</td>\n",
       "      <td>0</td>\n",
       "      <td>0</td>\n",
       "      <td>0</td>\n",
       "      <td>7.9250</td>\n",
       "      <td>1</td>\n",
       "      <td>False</td>\n",
       "      <td>False</td>\n",
       "      <td>True</td>\n",
       "      <td>False</td>\n",
       "    </tr>\n",
       "    <tr>\n",
       "      <th>3</th>\n",
       "      <td>True</td>\n",
       "      <td>False</td>\n",
       "      <td>False</td>\n",
       "      <td>True</td>\n",
       "      <td>False</td>\n",
       "      <td>35.0</td>\n",
       "      <td>0</td>\n",
       "      <td>1</td>\n",
       "      <td>0</td>\n",
       "      <td>53.1000</td>\n",
       "      <td>0</td>\n",
       "      <td>False</td>\n",
       "      <td>False</td>\n",
       "      <td>True</td>\n",
       "      <td>False</td>\n",
       "    </tr>\n",
       "    <tr>\n",
       "      <th>4</th>\n",
       "      <td>False</td>\n",
       "      <td>False</td>\n",
       "      <td>True</td>\n",
       "      <td>False</td>\n",
       "      <td>True</td>\n",
       "      <td>35.0</td>\n",
       "      <td>0</td>\n",
       "      <td>0</td>\n",
       "      <td>0</td>\n",
       "      <td>8.0500</td>\n",
       "      <td>1</td>\n",
       "      <td>False</td>\n",
       "      <td>False</td>\n",
       "      <td>True</td>\n",
       "      <td>False</td>\n",
       "    </tr>\n",
       "    <tr>\n",
       "      <th>5</th>\n",
       "      <td>False</td>\n",
       "      <td>False</td>\n",
       "      <td>True</td>\n",
       "      <td>False</td>\n",
       "      <td>True</td>\n",
       "      <td>0.0</td>\n",
       "      <td>1</td>\n",
       "      <td>0</td>\n",
       "      <td>0</td>\n",
       "      <td>8.4583</td>\n",
       "      <td>1</td>\n",
       "      <td>False</td>\n",
       "      <td>True</td>\n",
       "      <td>False</td>\n",
       "      <td>False</td>\n",
       "    </tr>\n",
       "    <tr>\n",
       "      <th>6</th>\n",
       "      <td>True</td>\n",
       "      <td>False</td>\n",
       "      <td>False</td>\n",
       "      <td>False</td>\n",
       "      <td>True</td>\n",
       "      <td>54.0</td>\n",
       "      <td>0</td>\n",
       "      <td>0</td>\n",
       "      <td>0</td>\n",
       "      <td>51.8625</td>\n",
       "      <td>0</td>\n",
       "      <td>False</td>\n",
       "      <td>False</td>\n",
       "      <td>True</td>\n",
       "      <td>False</td>\n",
       "    </tr>\n",
       "    <tr>\n",
       "      <th>7</th>\n",
       "      <td>False</td>\n",
       "      <td>False</td>\n",
       "      <td>True</td>\n",
       "      <td>False</td>\n",
       "      <td>True</td>\n",
       "      <td>2.0</td>\n",
       "      <td>0</td>\n",
       "      <td>3</td>\n",
       "      <td>1</td>\n",
       "      <td>21.0750</td>\n",
       "      <td>1</td>\n",
       "      <td>False</td>\n",
       "      <td>False</td>\n",
       "      <td>True</td>\n",
       "      <td>False</td>\n",
       "    </tr>\n",
       "  </tbody>\n",
       "</table>\n",
       "</div>"
      ]
     },
     "execution_count": 20,
     "metadata": {},
     "output_type": "execute_result"
    }
   ],
   "execution_count": 20
  },
  {
   "metadata": {},
   "cell_type": "markdown",
   "source": "# 使用DataLoader和TensorDataset封装成可以迭代的数据管道\n",
   "id": "740ece1cd815db66"
  },
  {
   "metadata": {
    "ExecuteTime": {
     "end_time": "2025-02-16T17:15:41.483131Z",
     "start_time": "2025-02-16T17:15:41.451134Z"
    }
   },
   "cell_type": "code",
   "source": [
    "from torch.utils.data import Dataset, DataLoader, TensorDataset, random_split\n",
    "\n",
    "train_set = TensorDataset(torch.tensor(x_train).float(), torch.tensor(y_train).float())\n",
    "# 计算验证集的大小，这里使用 30% 作为验证集，70% 作为训练集\n",
    "val_size = int(0.3 * len(train_set))  # 30% 的验证集\n",
    "train_size = len(train_set) - val_size  # 剩下的 70% 作为训练集\n",
    "# 使用 random_split 拆分数据集\n",
    "train_subset, val_subset = random_split(train_set, [train_size, val_size])\n",
    "train_loader = DataLoader(train_subset, batch_size=8, shuffle=True)\n",
    "val_loader = DataLoader(val_subset, batch_size=8, shuffle=False)\n",
    "\n",
    "for features, labels in train_loader:\n",
    "    print(features, labels)\n",
    "    break"
   ],
   "id": "9cd660d77ecddcb1",
   "outputs": [
    {
     "ename": "TypeError",
     "evalue": "can't convert np.ndarray of type numpy.object_. The only supported types are: float64, float32, float16, complex64, complex128, int64, int32, int16, int8, uint64, uint32, uint16, uint8, and bool.",
     "output_type": "error",
     "traceback": [
      "\u001B[1;31m---------------------------------------------------------------------------\u001B[0m",
      "\u001B[1;31mTypeError\u001B[0m                                 Traceback (most recent call last)",
      "Cell \u001B[1;32mIn[18], line 3\u001B[0m\n\u001B[0;32m      1\u001B[0m \u001B[38;5;28;01mfrom\u001B[39;00m \u001B[38;5;21;01mtorch\u001B[39;00m\u001B[38;5;21;01m.\u001B[39;00m\u001B[38;5;21;01mutils\u001B[39;00m\u001B[38;5;21;01m.\u001B[39;00m\u001B[38;5;21;01mdata\u001B[39;00m \u001B[38;5;28;01mimport\u001B[39;00m Dataset, DataLoader, TensorDataset, random_split\n\u001B[1;32m----> 3\u001B[0m train_set \u001B[38;5;241m=\u001B[39m TensorDataset(\u001B[43mtorch\u001B[49m\u001B[38;5;241;43m.\u001B[39;49m\u001B[43mtensor\u001B[49m\u001B[43m(\u001B[49m\u001B[43mx_train\u001B[49m\u001B[43m)\u001B[49m\u001B[38;5;241m.\u001B[39mfloat(), torch\u001B[38;5;241m.\u001B[39mtensor(y_train)\u001B[38;5;241m.\u001B[39mfloat())\n\u001B[0;32m      4\u001B[0m \u001B[38;5;66;03m# 计算验证集的大小，这里使用 30% 作为验证集，70% 作为训练集\u001B[39;00m\n\u001B[0;32m      5\u001B[0m val_size \u001B[38;5;241m=\u001B[39m \u001B[38;5;28mint\u001B[39m(\u001B[38;5;241m0.3\u001B[39m \u001B[38;5;241m*\u001B[39m \u001B[38;5;28mlen\u001B[39m(train_set))  \u001B[38;5;66;03m# 30% 的验证集\u001B[39;00m\n",
      "\u001B[1;31mTypeError\u001B[0m: can't convert np.ndarray of type numpy.object_. The only supported types are: float64, float32, float16, complex64, complex128, int64, int32, int16, int8, uint64, uint32, uint16, uint8, and bool."
     ]
    }
   ],
   "execution_count": 18
  },
  {
   "metadata": {
    "ExecuteTime": {
     "end_time": "2025-02-16T17:17:51.788903Z",
     "start_time": "2025-02-16T17:17:51.770898Z"
    }
   },
   "cell_type": "code",
   "source": "type(x_train)",
   "id": "82515ba466fc9cac",
   "outputs": [
    {
     "data": {
      "text/plain": [
       "numpy.ndarray"
      ]
     },
     "execution_count": 22,
     "metadata": {},
     "output_type": "execute_result"
    }
   ],
   "execution_count": 22
  },
  {
   "metadata": {},
   "cell_type": "code",
   "outputs": [],
   "execution_count": null,
   "source": "",
   "id": "940b0f524e7cf03a"
  }
 ],
 "metadata": {
  "kernelspec": {
   "display_name": "Python 3",
   "language": "python",
   "name": "python3"
  },
  "language_info": {
   "codemirror_mode": {
    "name": "ipython",
    "version": 2
   },
   "file_extension": ".py",
   "mimetype": "text/x-python",
   "name": "python",
   "nbconvert_exporter": "python",
   "pygments_lexer": "ipython2",
   "version": "2.7.6"
  }
 },
 "nbformat": 4,
 "nbformat_minor": 5
}
