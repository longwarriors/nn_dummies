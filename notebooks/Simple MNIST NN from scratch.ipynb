{
 "cells": [
  {
   "cell_type": "code",
   "id": "initial_id",
   "metadata": {
    "collapsed": true,
    "ExecuteTime": {
     "end_time": "2024-12-27T09:27:22.911832Z",
     "start_time": "2024-12-27T09:27:22.058537Z"
    }
   },
   "source": [
    "\"\"\"\n",
    "https://www.kaggle.com/code/wwsalmon/simple-mnist-nn-from-scratch-numpy-no-tf-keras/comments\n",
    "https://www.youtube.com/watch?v=w8yWXqWQYmU&t=1164s\n",
    "\"\"\"\n",
    "\n",
    "import numpy as np\n",
    "import pandas as pd\n",
    "import matplotlib.pyplot as plt\n",
    "\n",
    "# use pandas just to open the datas\n",
    "# Each image is 28 pixels in height\n",
    "# and 28 pixels in width\n",
    "# pixel-value is an integer between 0 and 255\n",
    "# higher numbers meaning darker\n",
    "df = pd.read_csv('E:/AIdata/kaggle-digit-recognizer/train.csv')\n",
    "print(df.head())\n",
    "\n",
    "# use numpy to manipulate the data\n",
    "samples = df.to_numpy()\n",
    "\n",
    "# num_samples, num_features\n",
    "M, N = samples.shape\n",
    "\n",
    "# samples = np.random.permutation(samples)\n",
    "np.random.shuffle(samples)"
   ],
   "outputs": [
    {
     "name": "stdout",
     "output_type": "stream",
     "text": [
      "   label  pixel0  pixel1  pixel2  pixel3  pixel4  pixel5  pixel6  pixel7  \\\n",
      "0      1       0       0       0       0       0       0       0       0   \n",
      "1      0       0       0       0       0       0       0       0       0   \n",
      "2      1       0       0       0       0       0       0       0       0   \n",
      "3      4       0       0       0       0       0       0       0       0   \n",
      "4      0       0       0       0       0       0       0       0       0   \n",
      "\n",
      "   pixel8  ...  pixel774  pixel775  pixel776  pixel777  pixel778  pixel779  \\\n",
      "0       0  ...         0         0         0         0         0         0   \n",
      "1       0  ...         0         0         0         0         0         0   \n",
      "2       0  ...         0         0         0         0         0         0   \n",
      "3       0  ...         0         0         0         0         0         0   \n",
      "4       0  ...         0         0         0         0         0         0   \n",
      "\n",
      "   pixel780  pixel781  pixel782  pixel783  \n",
      "0         0         0         0         0  \n",
      "1         0         0         0         0  \n",
      "2         0         0         0         0  \n",
      "3         0         0         0         0  \n",
      "4         0         0         0         0  \n",
      "\n",
      "[5 rows x 785 columns]\n"
     ]
    }
   ],
   "execution_count": 24
  },
  {
   "metadata": {
    "ExecuteTime": {
     "end_time": "2024-12-27T09:38:53.931851Z",
     "start_time": "2024-12-27T09:38:53.913321Z"
    }
   },
   "cell_type": "code",
   "source": [
    "num_test = int(M * 0.2)\n",
    "num_train = M - num_test\n",
    "num_classes = 10\n",
    "# transpose -> each column is an example\n",
    "test_samples = samples[:num_test].T\n",
    "train_samples = samples[num_test:].T\n",
    "y_train = train_samples[0]\n",
    "y_test = test_samples[0]\n",
    "X_train = train_samples[1:]\n",
    "X_test = test_samples[1:]\n",
    "print(X_train.shape)"
   ],
   "id": "e8dfd63607c988fd",
   "outputs": [
    {
     "name": "stdout",
     "output_type": "stream",
     "text": [
      "(784, 33600)\n"
     ]
    }
   ],
   "execution_count": 27
  },
  {
   "metadata": {
    "ExecuteTime": {
     "end_time": "2024-12-27T09:44:27.466796Z",
     "start_time": "2024-12-27T09:44:27.454776Z"
    }
   },
   "cell_type": "code",
   "source": [
    "def init_weights(hidden_size):\n",
    "    # Initialize weights with a smaller scale\n",
    "    w1 = np.random.randn(hidden_size, N) * 0.01    \n",
    "    w2 = np.random.randn(num_classes, hidden_size) * 0.01\n",
    "    # Initialize biases to zero\n",
    "    b1 = np.zeros((hidden_size, 1))\n",
    "    b2 = np.zeros((num_classes, 1))\n",
    "    return [w1, b1, w2, b2]\n",
    "\n",
    "print(init_weights(10))"
   ],
   "id": "e9dffe15ac745c04",
   "outputs": [
    {
     "name": "stdout",
     "output_type": "stream",
     "text": [
      "[array([[-0.00214268, -0.00451881, -0.00501132, ...,  0.00621608,\n",
      "        -0.00297445,  0.00104189],\n",
      "       [-0.01124376, -0.00916362, -0.00078708, ..., -0.00296908,\n",
      "        -0.01598694, -0.00624836],\n",
      "       [ 0.01896795,  0.00110934,  0.00244129, ..., -0.00988371,\n",
      "         0.00059001, -0.01917564],\n",
      "       ...,\n",
      "       [-0.00465009, -0.00637078, -0.00589314, ..., -0.02863088,\n",
      "        -0.01636455,  0.00358919],\n",
      "       [-0.00998318,  0.00548806, -0.00714683, ..., -0.00882647,\n",
      "         0.00737056, -0.00162702],\n",
      "       [-0.00574123,  0.01207532, -0.02001627, ...,  0.00407867,\n",
      "         0.00771213,  0.00736102]]), array([[0.],\n",
      "       [0.],\n",
      "       [0.],\n",
      "       [0.],\n",
      "       [0.],\n",
      "       [0.],\n",
      "       [0.],\n",
      "       [0.],\n",
      "       [0.],\n",
      "       [0.]]), array([[ 8.44829285e-03,  1.16711947e-02, -8.00999082e-05,\n",
      "         3.15685854e-03, -1.09235125e-03, -7.42168141e-03,\n",
      "        -1.84941043e-02, -1.20806980e-02,  1.01032921e-02,\n",
      "         1.00207315e-02],\n",
      "       [ 8.65670126e-03, -2.39978062e-02, -1.29426562e-02,\n",
      "         4.19869258e-03,  2.06105025e-02,  1.93941950e-02,\n",
      "         4.24688859e-03, -6.10606417e-04,  2.75730472e-03,\n",
      "        -6.52602196e-03],\n",
      "       [-5.07375550e-03, -1.08689228e-02,  1.25014182e-02,\n",
      "         1.86633472e-02, -9.64626507e-04, -2.00440152e-03,\n",
      "        -6.59690134e-03, -2.54211052e-03,  6.28107458e-03,\n",
      "        -1.79286376e-03],\n",
      "       [-3.12230891e-03, -1.70697077e-02,  6.91076960e-03,\n",
      "        -2.74429995e-03, -5.66712386e-03, -4.31152500e-03,\n",
      "         9.17718566e-03,  2.48270593e-03, -7.08891449e-03,\n",
      "         5.68457314e-03],\n",
      "       [-5.80452092e-03, -1.78263102e-02,  6.91309315e-03,\n",
      "         7.03882405e-03,  8.82647306e-04,  5.17681147e-04,\n",
      "         1.92287724e-02,  1.97975642e-02, -3.82843578e-04,\n",
      "         3.12069192e-03],\n",
      "       [ 2.45524879e-02,  9.28922052e-03, -8.57316190e-04,\n",
      "        -1.66929120e-02,  3.64628721e-03, -9.50930735e-03,\n",
      "         3.42643243e-03,  2.01341251e-03,  3.19998401e-03,\n",
      "        -5.45003800e-05],\n",
      "       [-3.41351476e-03, -1.00642609e-02, -1.16209106e-02,\n",
      "        -9.34828132e-03, -7.50305514e-03,  9.04418894e-03,\n",
      "        -5.41925962e-03,  1.01107000e-03, -1.59050496e-03,\n",
      "         3.37099588e-03],\n",
      "       [ 4.50839274e-03, -1.26150065e-02,  1.49347879e-03,\n",
      "        -2.51153711e-03,  1.24626506e-02, -2.95221526e-03,\n",
      "         5.18270765e-03,  9.60496766e-04, -3.15286943e-03,\n",
      "         3.37751092e-03],\n",
      "       [-1.76082436e-02,  2.28132841e-02,  3.65777605e-03,\n",
      "         5.32721518e-03, -4.31357713e-03,  1.13992194e-02,\n",
      "         5.27538480e-03, -8.96218833e-03, -2.32557579e-02,\n",
      "         4.59557675e-03],\n",
      "       [ 2.29642412e-02,  4.61094412e-03,  1.60494630e-02,\n",
      "        -7.76433987e-03, -7.60199489e-03,  3.24511555e-03,\n",
      "        -9.78979190e-03,  1.12559529e-02, -2.24846088e-03,\n",
      "         4.91171885e-03]]), array([[0.],\n",
      "       [0.],\n",
      "       [0.],\n",
      "       [0.],\n",
      "       [0.],\n",
      "       [0.],\n",
      "       [0.],\n",
      "       [0.],\n",
      "       [0.],\n",
      "       [0.]])]\n"
     ]
    }
   ],
   "execution_count": 28
  },
  {
   "metadata": {
    "ExecuteTime": {
     "end_time": "2024-12-27T09:25:52.824975Z",
     "start_time": "2024-12-27T09:25:52.812911Z"
    }
   },
   "cell_type": "code",
   "source": [
    "def relu(z):\n",
    "    return np.maximum(0, z)\n",
    "\n",
    "def softmax(z):\n",
    "    \"\"\"Compute softmax values for each sets of scores in X.\"\"\"\n",
    "    e_z = np.exp(z-np.max(z, axis=1, keepdims=True))\n",
    "    return e_z/e_z.sum(axis=0, keepdims=True)"
   ],
   "id": "7e0ff751ffb28e45",
   "outputs": [
    {
     "data": {
      "text/plain": [
       "array([[ 1.4449453 , -0.17119814],\n",
       "       [ 1.00852409,  1.34115899],\n",
       "       [ 0.25002749,  0.89491132],\n",
       "       [-1.03946102, -0.74801539],\n",
       "       [ 0.45631595,  1.77176329],\n",
       "       [-0.67883282,  2.32312344],\n",
       "       [-1.28990651,  1.29318814]])"
      ]
     },
     "execution_count": 21,
     "metadata": {},
     "output_type": "execute_result"
    }
   ],
   "execution_count": 21
  },
  {
   "metadata": {
    "ExecuteTime": {
     "end_time": "2024-12-27T09:24:28.295440Z",
     "start_time": "2024-12-27T09:24:28.279269Z"
    }
   },
   "cell_type": "code",
   "source": "a[:, 0]",
   "id": "549168764631f3d3",
   "outputs": [
    {
     "data": {
      "text/plain": [
       "array([-0.74114234,  1.25450732, -0.16084021, -0.24652257,  1.16159475,\n",
       "       -0.14310011, -1.01334394, -1.01867776, -0.30440945,  0.94788279])"
      ]
     },
     "execution_count": 19,
     "metadata": {},
     "output_type": "execute_result"
    }
   ],
   "execution_count": 19
  },
  {
   "metadata": {},
   "cell_type": "code",
   "outputs": [],
   "execution_count": null,
   "source": "",
   "id": "de67dce691b7721e"
  }
 ],
 "metadata": {
  "kernelspec": {
   "display_name": "Python 3",
   "language": "python",
   "name": "python3"
  },
  "language_info": {
   "codemirror_mode": {
    "name": "ipython",
    "version": 2
   },
   "file_extension": ".py",
   "mimetype": "text/x-python",
   "name": "python",
   "nbconvert_exporter": "python",
   "pygments_lexer": "ipython2",
   "version": "2.7.6"
  }
 },
 "nbformat": 4,
 "nbformat_minor": 5
}
