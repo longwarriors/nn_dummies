{
 "cells": [
  {
   "cell_type": "code",
   "id": "initial_id",
   "metadata": {
    "collapsed": true,
    "ExecuteTime": {
     "end_time": "2025-02-10T02:23:43.661394Z",
     "start_time": "2025-02-10T02:23:40.751226Z"
    }
   },
   "source": [
    "import torch\n",
    "import torch.nn as nn\n",
    "\n",
    "torch.manual_seed(1)\n",
    "rnn_layer = nn.RNN(input_size=5, hidden_size=2, num_layers=1, batch_first=True)\n",
    "W_xh = rnn_layer.weight_ih_l0\n",
    "print(f'W_xh {W_xh}\\n')\n",
    "b_xh = rnn_layer.bias_ih_l0\n",
    "print(f'b_xh {b_xh}\\n')\n",
    "\n",
    "W_hh = rnn_layer.weight_hh_l0\n",
    "print(f'W_hh {W_hh}\\n')\n",
    "b_hh = rnn_layer.bias_hh_l0\n",
    "print(f'b_hh {b_hh}\\n')"
   ],
   "outputs": [
    {
     "name": "stdout",
     "output_type": "stream",
     "text": [
      "W_xh Parameter containing:\n",
      "tensor([[ 0.3643, -0.3121, -0.1371,  0.3319, -0.6657],\n",
      "        [ 0.4241, -0.1455,  0.3597,  0.0983, -0.0866]], requires_grad=True)\n",
      "\n",
      "b_xh Parameter containing:\n",
      "tensor([-0.0516, -0.0637], requires_grad=True)\n",
      "\n",
      "W_hh Parameter containing:\n",
      "tensor([[ 0.1961,  0.0349],\n",
      "        [ 0.2583, -0.2756]], requires_grad=True)\n",
      "\n",
      "b_hh Parameter containing:\n",
      "tensor([ 0.1025, -0.0028], requires_grad=True)\n",
      "\n"
     ]
    }
   ],
   "execution_count": 1
  },
  {
   "metadata": {
    "ExecuteTime": {
     "end_time": "2025-01-08T06:24:20.629009Z",
     "start_time": "2025-01-08T06:24:20.613239Z"
    }
   },
   "cell_type": "code",
   "source": [
    "x_seq = torch.tensor([[1.0] * 5, [2.0] * 5, [3.0] * 5]).float()\n",
    "print(f'x_seq:\\n{x_seq}\\n')\n",
    "\n",
    "out_seq, hidden_states = rnn_layer(x_seq)\n",
    "\n",
    "seq_length = len(x_seq)  # T\n",
    "output = []\n",
    "for t in range(seq_length):\n",
    "    x_t = x_seq[t]\n",
    "    print(f'Time step {t} =>')\n",
    "    print(f'    Input           : {x_t.numpy()}')\n",
    "    \n",
    "    h_t = W_xh.matmul(x_t) + b_xh\n",
    "    print(f'    Hidden          : {h_t.detach().numpy()}')\n",
    "\n",
    "    h_prev = output[t - 1] if t > 0 else torch.zeros_like(h_t)\n",
    "    h_t += W_hh.matmul(h_prev) + b_hh\n",
    "    o_t = torch.tanh(h_t)\n",
    "    output.append(o_t)\n",
    "    print(f'    Output          : {o_t.detach().numpy()}')\n",
    "    print(f'    RNN output      : {out_seq[t].detach().numpy()}')"
   ],
   "id": "e59729c60d46de13",
   "outputs": [
    {
     "name": "stdout",
     "output_type": "stream",
     "text": [
      "x_seq:\n",
      "tensor([[1., 1., 1., 1., 1.],\n",
      "        [2., 2., 2., 2., 2.],\n",
      "        [3., 3., 3., 3., 3.]])\n",
      "\n",
      "Time step 0 =>\n",
      "    Input           : [1. 1. 1. 1. 1.]\n",
      "    Hidden          : [-0.4701929  0.5863904]\n",
      "    Output          : [-0.3519801   0.52525216]\n",
      "    RNN output      : [-0.3519801   0.52525216]\n",
      "Time step 1 =>\n",
      "    Input           : [2. 2. 2. 2. 2.]\n",
      "    Hidden          : [-0.88883156  1.2364397 ]\n",
      "    Output          : [-0.68424344  0.76074266]\n",
      "    RNN output      : [-0.68424344  0.76074266]\n",
      "Time step 2 =>\n",
      "    Input           : [3. 3. 3. 3. 3.]\n",
      "    Hidden          : [-1.3074701  1.886489 ]\n",
      "    Output          : [-0.8649416   0.90466356]\n",
      "    RNN output      : [-0.8649416   0.90466356]\n"
     ]
    }
   ],
   "execution_count": 35
  },
  {
   "metadata": {
    "ExecuteTime": {
     "end_time": "2025-01-08T06:19:40.539172Z",
     "start_time": "2025-01-08T06:19:40.523546Z"
    }
   },
   "cell_type": "code",
   "source": "hidden_states",
   "id": "e0cfad2c4763c7fb",
   "outputs": [
    {
     "data": {
      "text/plain": [
       "tensor([[-0.8649,  0.9047]], grad_fn=<SqueezeBackward1>)"
      ]
     },
     "execution_count": 33,
     "metadata": {},
     "output_type": "execute_result"
    }
   ],
   "execution_count": 33
  },
  {
   "metadata": {
    "ExecuteTime": {
     "end_time": "2025-01-08T06:19:56.918302Z",
     "start_time": "2025-01-08T06:19:56.886947Z"
    }
   },
   "cell_type": "code",
   "source": "out_seq",
   "id": "a23fa6d13e3c8ba9",
   "outputs": [
    {
     "data": {
      "text/plain": [
       "tensor([[-0.3520,  0.5253],\n",
       "        [-0.6842,  0.7607],\n",
       "        [-0.8649,  0.9047]], grad_fn=<SqueezeBackward1>)"
      ]
     },
     "execution_count": 34,
     "metadata": {},
     "output_type": "execute_result"
    }
   ],
   "execution_count": 34
  },
  {
   "metadata": {
    "ExecuteTime": {
     "end_time": "2025-02-07T18:33:29.709107Z",
     "start_time": "2025-02-07T18:33:29.695045Z"
    }
   },
   "cell_type": "code",
   "source": [
    "mat = torch.rand(15, 8)\n",
    "print(f'mat:\\n{mat}')\n",
    "arr = torch.rand(8)\n",
    "print(f'arr:\\n{arr}')\n",
    "row = arr.unsqueeze(0)\n",
    "print(f'row:\\n{row}')\n",
    "col = arr.unsqueeze(1)\n",
    "print(f'col:\\n{col}')"
   ],
   "id": "8d9b19a20cc23cfd",
   "outputs": [
    {
     "name": "stdout",
     "output_type": "stream",
     "text": [
      "mat:\n",
      "tensor([[0.9967, 0.5107, 0.8953, 0.6219, 0.9482, 0.7885, 0.2451, 0.8512],\n",
      "        [0.5032, 0.0986, 0.3952, 0.0487, 0.2409, 0.1458, 0.8420, 0.3950],\n",
      "        [0.4136, 0.7396, 0.7035, 0.1700, 0.6843, 0.7124, 0.1024, 0.9347],\n",
      "        [0.1958, 0.3045, 0.0882, 0.9570, 0.5952, 0.9210, 0.5327, 0.7718],\n",
      "        [0.3404, 0.1011, 0.5803, 0.4554, 0.4495, 0.2544, 0.5104, 0.6436],\n",
      "        [0.6804, 0.0972, 0.7416, 0.5514, 0.8449, 0.8534, 0.1062, 0.9802],\n",
      "        [0.0083, 0.7874, 0.5352, 0.7366, 0.2296, 0.8006, 0.2526, 0.0581],\n",
      "        [0.6675, 0.7737, 0.9956, 0.4477, 0.9810, 0.8212, 0.2520, 0.1143],\n",
      "        [0.7804, 0.2261, 0.7293, 0.0718, 0.8648, 0.6499, 0.4425, 0.7293],\n",
      "        [0.1440, 0.3907, 0.5049, 0.2111, 0.3722, 0.2844, 0.9765, 0.9248],\n",
      "        [0.9312, 0.9087, 0.0211, 0.6673, 0.6843, 0.1333, 0.7027, 0.2287],\n",
      "        [0.5795, 0.6656, 0.9314, 0.2377, 0.1066, 0.9626, 0.7099, 0.7430],\n",
      "        [0.6800, 0.3230, 0.8008, 0.0635, 0.5696, 0.7260, 0.8416, 0.2503],\n",
      "        [0.1621, 0.6874, 0.1029, 0.0845, 0.0503, 0.2575, 0.4046, 0.2039],\n",
      "        [0.2886, 0.0573, 0.8073, 0.3855, 0.1845, 0.6302, 0.1261, 0.8500]])\n",
      "arr:\n",
      "tensor([0.7875, 0.0086, 0.1075, 0.1703, 0.2293, 0.5624, 0.0056, 0.1293])\n",
      "row:\n",
      "tensor([[0.7875, 0.0086, 0.1075, 0.1703, 0.2293, 0.5624, 0.0056, 0.1293]])\n",
      "col:\n",
      "tensor([[0.7875],\n",
      "        [0.0086],\n",
      "        [0.1075],\n",
      "        [0.1703],\n",
      "        [0.2293],\n",
      "        [0.5624],\n",
      "        [0.0056],\n",
      "        [0.1293]])\n"
     ]
    }
   ],
   "execution_count": 7
  },
  {
   "metadata": {
    "ExecuteTime": {
     "end_time": "2025-02-08T07:02:49.847070Z",
     "start_time": "2025-02-08T07:02:49.830592Z"
    }
   },
   "cell_type": "code",
   "source": [
    "c = mat.mm(col)\n",
    "print(f'c:\\n{c}')\n",
    "r = row.mm(mat.t())\n",
    "print(f'r:\\n{r}')"
   ],
   "id": "ed2e7a64572cb250",
   "outputs": [
    {
     "name": "stdout",
     "output_type": "stream",
     "text": [
      "c:\n",
      "tensor([[1.7639],\n",
      "        [0.6409],\n",
      "        [1.1158],\n",
      "        [1.0865],\n",
      "        [0.7411],\n",
      "        [1.5113],\n",
      "        [0.7082],\n",
      "        [1.4187],\n",
      "        [1.3678],\n",
      "        [0.5774],\n",
      "        [1.1225],\n",
      "        [1.2687],\n",
      "        [1.2112],\n",
      "        [0.3440],\n",
      "        [0.8876]])\n",
      "r:\n",
      "tensor([[1.7639, 0.6409, 1.1158, 1.0865, 0.7411, 1.5113, 0.7082, 1.4187, 1.3678,\n",
      "         0.5774, 1.1225, 1.2687, 1.2112, 0.3440, 0.8876]])\n"
     ]
    }
   ],
   "execution_count": 14
  },
  {
   "metadata": {
    "ExecuteTime": {
     "end_time": "2025-02-07T18:35:38.491681Z",
     "start_time": "2025-02-07T18:35:38.473076Z"
    }
   },
   "cell_type": "code",
   "source": "mat.matmul(arr)",
   "id": "148cf1b7f39c7c28",
   "outputs": [
    {
     "data": {
      "text/plain": [
       "tensor([1.7639, 0.6409, 1.1158, 1.0865, 0.7411, 1.5113, 0.7082, 1.4187, 1.3678,\n",
       "        0.5774, 1.1225, 1.2687, 1.2112, 0.3440, 0.8876])"
      ]
     },
     "execution_count": 11,
     "metadata": {},
     "output_type": "execute_result"
    }
   ],
   "execution_count": 11
  },
  {
   "metadata": {
    "ExecuteTime": {
     "end_time": "2025-02-07T18:36:39.919263Z",
     "start_time": "2025-02-07T18:36:39.905621Z"
    }
   },
   "cell_type": "code",
   "source": "mat.matmul(row)",
   "id": "95f54f2c74110359",
   "outputs": [
    {
     "ename": "RuntimeError",
     "evalue": "mat1 and mat2 shapes cannot be multiplied (15x8 and 1x8)",
     "output_type": "error",
     "traceback": [
      "\u001B[1;31m---------------------------------------------------------------------------\u001B[0m",
      "\u001B[1;31mRuntimeError\u001B[0m                              Traceback (most recent call last)",
      "Cell \u001B[1;32mIn[12], line 1\u001B[0m\n\u001B[1;32m----> 1\u001B[0m \u001B[43mmat\u001B[49m\u001B[38;5;241;43m.\u001B[39;49m\u001B[43mmatmul\u001B[49m\u001B[43m(\u001B[49m\u001B[43mrow\u001B[49m\u001B[43m)\u001B[49m\n",
      "\u001B[1;31mRuntimeError\u001B[0m: mat1 and mat2 shapes cannot be multiplied (15x8 and 1x8)"
     ]
    }
   ],
   "execution_count": 12
  },
  {
   "metadata": {
    "ExecuteTime": {
     "end_time": "2025-02-08T16:58:33.658513Z",
     "start_time": "2025-02-08T16:58:33.642411Z"
    }
   },
   "cell_type": "code",
   "source": [
    "in_dim, out_dim = 32, 512\n",
    "token = torch.rand(in_dim)\n",
    "trans = torch.rand(out_dim, in_dim)\n",
    "r1 = trans.matmul(token)\n",
    "r1.shape"
   ],
   "id": "f389859f25c6acb5",
   "outputs": [
    {
     "data": {
      "text/plain": [
       "torch.Size([512])"
      ]
     },
     "execution_count": 26,
     "metadata": {},
     "output_type": "execute_result"
    }
   ],
   "execution_count": 26
  },
  {
   "metadata": {
    "ExecuteTime": {
     "end_time": "2025-02-08T17:03:13.289743Z",
     "start_time": "2025-02-08T17:03:13.277668Z"
    }
   },
   "cell_type": "code",
   "source": [
    "batch = 3333\n",
    "X = torch.rand(batch, in_dim)\n",
    "y = X.matmul(trans.t())\n",
    "y.shape"
   ],
   "id": "516c92d361db7e36",
   "outputs": [
    {
     "data": {
      "text/plain": [
       "torch.Size([3333, 512])"
      ]
     },
     "execution_count": 30,
     "metadata": {},
     "output_type": "execute_result"
    }
   ],
   "execution_count": 30
  },
  {
   "metadata": {
    "ExecuteTime": {
     "end_time": "2025-02-08T17:30:00.807631Z",
     "start_time": "2025-02-08T17:30:00.779295Z"
    }
   },
   "cell_type": "code",
   "source": [
    "linear = nn.Linear(in_dim, out_dim)\n",
    "y1 = linear(X)\n",
    "y1.shape"
   ],
   "id": "aa12a6562c86b5cd",
   "outputs": [
    {
     "data": {
      "text/plain": [
       "torch.Size([3333, 512])"
      ]
     },
     "execution_count": 31,
     "metadata": {},
     "output_type": "execute_result"
    }
   ],
   "execution_count": 31
  },
  {
   "metadata": {
    "ExecuteTime": {
     "end_time": "2025-02-08T17:37:04.996129Z",
     "start_time": "2025-02-08T17:37:04.984391Z"
    }
   },
   "cell_type": "code",
   "source": "linear.weight.shape",
   "id": "a45ab766fde2ab6c",
   "outputs": [
    {
     "data": {
      "text/plain": [
       "torch.Size([512, 32])"
      ]
     },
     "execution_count": 34,
     "metadata": {},
     "output_type": "execute_result"
    }
   ],
   "execution_count": 34
  },
  {
   "metadata": {
    "ExecuteTime": {
     "end_time": "2025-02-08T17:37:43.865547Z",
     "start_time": "2025-02-08T17:37:43.849646Z"
    }
   },
   "cell_type": "code",
   "source": "trans.shape",
   "id": "6f8b7814fbcea4ac",
   "outputs": [
    {
     "data": {
      "text/plain": [
       "torch.Size([512, 32])"
      ]
     },
     "execution_count": 35,
     "metadata": {},
     "output_type": "execute_result"
    }
   ],
   "execution_count": 35
  }
 ],
 "metadata": {
  "kernelspec": {
   "display_name": "Python 3",
   "language": "python",
   "name": "python3"
  },
  "language_info": {
   "codemirror_mode": {
    "name": "ipython",
    "version": 2
   },
   "file_extension": ".py",
   "mimetype": "text/x-python",
   "name": "python",
   "nbconvert_exporter": "python",
   "pygments_lexer": "ipython2",
   "version": "2.7.6"
  }
 },
 "nbformat": 4,
 "nbformat_minor": 5
}
