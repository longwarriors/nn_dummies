{
 "cells": [
  {
   "cell_type": "code",
   "id": "initial_id",
   "metadata": {
    "collapsed": true,
    "ExecuteTime": {
     "end_time": "2025-01-08T02:40:00.644521Z",
     "start_time": "2025-01-08T02:40:00.618079Z"
    }
   },
   "source": [
    "import torch\n",
    "import torch.nn as nn\n",
    "\n",
    "torch.manual_seed(1)\n",
    "rnn_layer = nn.RNN(input_size=5, hidden_size=2, num_layers=1, batch_first=True)\n",
    "W_xh = rnn_layer.weight_ih_l0\n",
    "print(f'W_xh {W_xh}\\n')\n",
    "b_xh = rnn_layer.bias_ih_l0\n",
    "print(f'b_xh {b_xh}\\n')\n",
    "\n",
    "W_hh = rnn_layer.weight_hh_l0\n",
    "print(f'W_hh {W_hh}\\n')\n",
    "b_hh = rnn_layer.bias_hh_l0\n",
    "print(f'b_hh {b_hh}\\n')"
   ],
   "outputs": [
    {
     "name": "stdout",
     "output_type": "stream",
     "text": [
      "W_xh Parameter containing:\n",
      "tensor([[ 0.3643, -0.3121, -0.1371,  0.3319, -0.6657],\n",
      "        [ 0.4241, -0.1455,  0.3597,  0.0983, -0.0866]], requires_grad=True)\n",
      "\n",
      "b_xh Parameter containing:\n",
      "tensor([-0.0516, -0.0637], requires_grad=True)\n",
      "\n",
      "W_hh Parameter containing:\n",
      "tensor([[ 0.1961,  0.0349],\n",
      "        [ 0.2583, -0.2756]], requires_grad=True)\n",
      "\n",
      "b_hh Parameter containing:\n",
      "tensor([ 0.1025, -0.0028], requires_grad=True)\n",
      "\n"
     ]
    }
   ],
   "execution_count": 6
  },
  {
   "metadata": {
    "ExecuteTime": {
     "end_time": "2025-01-08T06:24:20.629009Z",
     "start_time": "2025-01-08T06:24:20.613239Z"
    }
   },
   "cell_type": "code",
   "source": [
    "x_seq = torch.tensor([[1.0] * 5, [2.0] * 5, [3.0] * 5]).float()\n",
    "print(f'x_seq:\\n{x_seq}\\n')\n",
    "\n",
    "out_seq, hidden_states = rnn_layer(x_seq)\n",
    "\n",
    "seq_length = len(x_seq)  # T\n",
    "output = []\n",
    "for t in range(seq_length):\n",
    "    x_t = x_seq[t]\n",
    "    print(f'Time step {t} =>')\n",
    "    print(f'    Input           : {x_t.numpy()}')\n",
    "    \n",
    "    h_t = W_xh.matmul(x_t) + b_xh\n",
    "    print(f'    Hidden          : {h_t.detach().numpy()}')\n",
    "\n",
    "    h_prev = output[t - 1] if t > 0 else torch.zeros_like(h_t)\n",
    "    h_t += W_hh.matmul(h_prev) + b_hh\n",
    "    o_t = torch.tanh(h_t)\n",
    "    output.append(o_t)\n",
    "    print(f'    Output          : {o_t.detach().numpy()}')\n",
    "    print(f'    RNN output      : {out_seq[t].detach().numpy()}')"
   ],
   "id": "e59729c60d46de13",
   "outputs": [
    {
     "name": "stdout",
     "output_type": "stream",
     "text": [
      "x_seq:\n",
      "tensor([[1., 1., 1., 1., 1.],\n",
      "        [2., 2., 2., 2., 2.],\n",
      "        [3., 3., 3., 3., 3.]])\n",
      "\n",
      "Time step 0 =>\n",
      "    Input           : [1. 1. 1. 1. 1.]\n",
      "    Hidden          : [-0.4701929  0.5863904]\n",
      "    Output          : [-0.3519801   0.52525216]\n",
      "    RNN output      : [-0.3519801   0.52525216]\n",
      "Time step 1 =>\n",
      "    Input           : [2. 2. 2. 2. 2.]\n",
      "    Hidden          : [-0.88883156  1.2364397 ]\n",
      "    Output          : [-0.68424344  0.76074266]\n",
      "    RNN output      : [-0.68424344  0.76074266]\n",
      "Time step 2 =>\n",
      "    Input           : [3. 3. 3. 3. 3.]\n",
      "    Hidden          : [-1.3074701  1.886489 ]\n",
      "    Output          : [-0.8649416   0.90466356]\n",
      "    RNN output      : [-0.8649416   0.90466356]\n"
     ]
    }
   ],
   "execution_count": 35
  },
  {
   "metadata": {
    "ExecuteTime": {
     "end_time": "2025-01-08T06:19:40.539172Z",
     "start_time": "2025-01-08T06:19:40.523546Z"
    }
   },
   "cell_type": "code",
   "source": "hidden_states",
   "id": "e0cfad2c4763c7fb",
   "outputs": [
    {
     "data": {
      "text/plain": [
       "tensor([[-0.8649,  0.9047]], grad_fn=<SqueezeBackward1>)"
      ]
     },
     "execution_count": 33,
     "metadata": {},
     "output_type": "execute_result"
    }
   ],
   "execution_count": 33
  },
  {
   "metadata": {
    "ExecuteTime": {
     "end_time": "2025-01-08T06:19:56.918302Z",
     "start_time": "2025-01-08T06:19:56.886947Z"
    }
   },
   "cell_type": "code",
   "source": "out_seq",
   "id": "a23fa6d13e3c8ba9",
   "outputs": [
    {
     "data": {
      "text/plain": [
       "tensor([[-0.3520,  0.5253],\n",
       "        [-0.6842,  0.7607],\n",
       "        [-0.8649,  0.9047]], grad_fn=<SqueezeBackward1>)"
      ]
     },
     "execution_count": 34,
     "metadata": {},
     "output_type": "execute_result"
    }
   ],
   "execution_count": 34
  },
  {
   "metadata": {},
   "cell_type": "code",
   "outputs": [],
   "execution_count": null,
   "source": "",
   "id": "8d9b19a20cc23cfd"
  }
 ],
 "metadata": {
  "kernelspec": {
   "display_name": "Python 3",
   "language": "python",
   "name": "python3"
  },
  "language_info": {
   "codemirror_mode": {
    "name": "ipython",
    "version": 2
   },
   "file_extension": ".py",
   "mimetype": "text/x-python",
   "name": "python",
   "nbconvert_exporter": "python",
   "pygments_lexer": "ipython2",
   "version": "2.7.6"
  }
 },
 "nbformat": 4,
 "nbformat_minor": 5
}
