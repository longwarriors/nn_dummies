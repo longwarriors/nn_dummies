{
 "cells": [
  {
   "metadata": {},
   "cell_type": "markdown",
   "source": [
    "# 图片数据建模流程范例\n",
    "- cifar2数据集为cifar10数据集的子集，只包括前两种类别airplane和automobile  \n",
    "- 训练集有airplane和automobile图片各5000张，测试集有airplane和automobile图片各1000张  \n",
    "- cifar2任务的目标是训练一个模型来对飞机airplane和机动车automobile两种图片进行分类  "
   ],
   "id": "f58e36f7fc9df804"
  },
  {
   "cell_type": "code",
   "id": "initial_id",
   "metadata": {
    "collapsed": true,
    "ExecuteTime": {
     "end_time": "2025-02-21T03:21:49.469254Z",
     "start_time": "2025-02-21T03:21:49.460355Z"
    }
   },
   "source": [
    "'''\n",
    "https://www.bilibili.com/video/BV1AS4y1W7Cb  \n",
    "https://github.com/lyhue1991/eat_pytorch_in_20_days/blob/master/1-2%2C%E5%9B%BE%E7%89%87%E6%95%B0%E6%8D%AE%E5%BB%BA%E6%A8%A1%E6%B5%81%E7%A8%8B%E8%8C%83%E4%BE%8B.ipynb  \n",
    "https://www.heywhale.com/mw/project/5f2b493eaf3980002cb1ced0  \n",
    "https://www.zhihu.com/question/523869554/answer/2633479163  \n",
    "'''\n",
    "\n",
    "import torch\n",
    "import torchvision\n",
    "import torchkeras\n",
    "import os\n",
    "import datetime\n",
    "\n",
    "print(\"CUDA = \", torch.cuda.is_available())\n",
    "print(\"torch.__version__ = \", torch.__version__)\n",
    "print(\"torchvision.__version__ = \", torchvision.__version__)\n",
    "print(\"torchkeras.__version__ = \", torchkeras.__version__)\n",
    "\n",
    "\n",
    "# 打印时间戳\n",
    "def printbar():\n",
    "    nowtime = datetime.datetime.now().strftime('%Y-%m-%d %H:%M:%S')\n",
    "    print('\\n' + \"==========\" * 8 + '%s' % nowtime)\n",
    "\n",
    "\n",
    "#mac系统上pytorch和matplotlib在jupyter中同时跑需要更改环境变量\n",
    "os.environ[\"KMP_DUPLICATE_LIB_OK\"] = \"TRUE\""
   ],
   "outputs": [
    {
     "name": "stdout",
     "output_type": "stream",
     "text": [
      "CUDA =  True\n",
      "torch.__version__ =  2.5.0\n",
      "torchvision.__version__ =  0.20.0\n",
      "torchkeras.__version__ =  4.0.2\n"
     ]
    }
   ],
   "execution_count": 4
  },
  {
   "metadata": {},
   "cell_type": "markdown",
   "source": [
    "# 构建图片数据管道\n",
    "- 使用torchvision.datasets.ImageFolder来读取图片，然后用DataLoader来并行加载\n",
    "- 通过继承torch.utils.data.Dataset实现用户自定义读取逻辑，然后用 DataLoader来并行加载"
   ],
   "id": "be2fcfcfe087e88e"
  },
  {
   "metadata": {},
   "cell_type": "code",
   "outputs": [],
   "execution_count": null,
   "source": [
    "from torchvision import datasets, transforms\n",
    "from torch.utils.data import Dataset, DataLoader\n",
    "from torch import nn\n",
    "import torch.nn.functional as F\n",
    "import numpy as np\n",
    "\n",
    "trans_img = transforms.Compose([\n",
    "    transforms.ToTensor()\n",
    "])\n",
    "\n",
    "\n",
    "def trans_label(label):\n",
    "    return torch.tensor(label).float()\n",
    "\n",
    "\n",
    "folder_path = './data'\n",
    "train_set = torchvision.datasets.CIFAR10()"
   ],
   "id": "9b5a8c6867e6d704"
  }
 ],
 "metadata": {
  "kernelspec": {
   "display_name": "Python 3",
   "language": "python",
   "name": "python3"
  },
  "language_info": {
   "codemirror_mode": {
    "name": "ipython",
    "version": 2
   },
   "file_extension": ".py",
   "mimetype": "text/x-python",
   "name": "python",
   "nbconvert_exporter": "python",
   "pygments_lexer": "ipython2",
   "version": "2.7.6"
  }
 },
 "nbformat": 4,
 "nbformat_minor": 5
}
