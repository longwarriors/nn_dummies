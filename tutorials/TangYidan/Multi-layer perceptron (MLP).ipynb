{
 "cells": [
  {
   "metadata": {},
   "cell_type": "markdown",
   "source": [
    "# 神经元模型（neural cell）\n",
    "## 感知机（perceptron）\n",
    "感知机是激活函数为符号函数sgn的单个神经元 \n",
    "## 多层感知机\n",
    "a multilayer perceptron"
   ],
   "id": "9184e9474d92798a"
  },
  {
   "cell_type": "code",
   "execution_count": null,
   "id": "initial_id",
   "metadata": {
    "collapsed": true
   },
   "outputs": [],
   "source": [
    "import torch\n",
    "import torch.nn.functional as F\n",
    "\n",
    "\n",
    "class Linear:\n",
    "    \"\"\"Linear layer\n",
    "    input: (B, in_features)\n",
    "    output: (B, out_features)\n",
    "    \"\"\"\n",
    "\n",
    "    def __init__(self, in_features: int, out_features: int, bias: bool = True):\n",
    "        # matrix W: (in_features, out_features)\n",
    "        # 初始化权重没有优化，待改进\n",
    "        self.weight = torch.randn(out_features, in_features, requires_grad=True)\n",
    "        if bias:\n",
    "            # vector b: (, out_features)\n",
    "            self.bias = torch.randn(out_features, requires_grad=True)\n",
    "        else:\n",
    "            self.bias = None\n",
    "            \n",
    "    def __call__(self, x: torch.Tensor) -> torch.Tensor:\n",
    "        self.out = x.matmul(self.weight)\n",
    "        if self.bias is not None:\n",
    "            self.out += self.bias\n",
    "        return self.out\n",
    "    \n",
    "    def parameters(self):\n",
    "        if self.bias is not None:\n",
    "            return [self.weight, self.bias]\n",
    "        else:\n",
    "            return [self.weight]\n",
    "        \n",
    "\n",
    "class Linear:\n",
    "    \"\"\"\n",
    "    Linear layer\n",
    "    input: (B, in_features)\n",
    "    output: (B, out_features)\n",
    "    \"\"\"\n",
    "\n",
    "    def __init__(self, in_features: int, out_features: int, bias=True):\n",
    "        # W matrix: (in_features, out_features)\n",
    "        self.weight = torch.randn(in_features, out_features, requires_grad=True)\n",
    "        if bias:\n",
    "            # b vector: (, out_features)\n",
    "            self.bias = torch.randn(out_features, requires_grad=True)\n",
    "        else:\n",
    "            self.bias = None\n",
    "\n",
    "    def __call__(self, x: torch.Tensor) -> torch.Tensor:\n",
    "        # x: (B, in_features)\n",
    "        self.out = x.mm(self.weight)\n",
    "        if self.bias is not None:\n",
    "            self.out += self.bias\n",
    "        return self.out\n",
    "\n",
    "    def parameters(self):\n",
    "        if self.bias is not None:\n",
    "            return (self.weight, self.bias)\n",
    "        else:\n",
    "            return (self.weight)\n"
   ]
  }
 ],
 "metadata": {
  "kernelspec": {
   "display_name": "Python 3",
   "language": "python",
   "name": "python3"
  },
  "language_info": {
   "codemirror_mode": {
    "name": "ipython",
    "version": 2
   },
   "file_extension": ".py",
   "mimetype": "text/x-python",
   "name": "python",
   "nbconvert_exporter": "python",
   "pygments_lexer": "ipython2",
   "version": "2.7.6"
  }
 },
 "nbformat": 4,
 "nbformat_minor": 5
}
